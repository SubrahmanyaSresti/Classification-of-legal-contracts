{
 "cells": [
  {
   "cell_type": "markdown",
   "metadata": {},
   "source": [
    "### IMPORTING LIBRARIES "
   ]
  },
  {
   "cell_type": "markdown",
   "metadata": {},
   "source": [
    "1. DATA HANDLING "
   ]
  },
  {
   "cell_type": "code",
   "execution_count": 226,
   "metadata": {},
   "outputs": [],
   "source": [
    "import pandas as pd\n",
    "import numpy as np\n",
    "import nltk"
   ]
  },
  {
   "cell_type": "markdown",
   "metadata": {},
   "source": [
    "2. DATA PRE PROCESSING "
   ]
  },
  {
   "cell_type": "code",
   "execution_count": 227,
   "metadata": {},
   "outputs": [],
   "source": [
    "from keras.preprocessing.text import Tokenizer\n",
    "from keras.preprocessing import text\n",
    "from keras.preprocessing import sequence\n",
    "from keras.preprocessing.sequence import pad_sequences"
   ]
  },
  {
   "cell_type": "markdown",
   "metadata": {},
   "source": [
    "3. MODELS "
   ]
  },
  {
   "cell_type": "code",
   "execution_count": 228,
   "metadata": {},
   "outputs": [],
   "source": [
    "from sklearn.model_selection import train_test_split\n",
    "from keras.models import Sequential, Model\n",
    "from keras.layers import Dense, Activation, Embedding, Flatten, GlobalMaxPool1D, Conv1D, Input\n",
    "from keras.layers import LSTM, Bidirectional, GlobalMaxPool1D, Dropout\n",
    "from keras.callbacks import EarlyStopping, ModelCheckpoint, ReduceLROnPlateau\n",
    "from keras.losses import binary_crossentropy\n",
    "from keras.optimizers import Adam\n",
    "import tensorflow as tf\n"
   ]
  },
  {
   "cell_type": "markdown",
   "metadata": {},
   "source": [
    "4. TO SAVE MODELS"
   ]
  },
  {
   "cell_type": "code",
   "execution_count": 229,
   "metadata": {},
   "outputs": [],
   "source": [
    "import joblib"
   ]
  },
  {
   "cell_type": "markdown",
   "metadata": {},
   "source": [
    "### DATASET "
   ]
  },
  {
   "cell_type": "code",
   "execution_count": 230,
   "metadata": {},
   "outputs": [],
   "source": [
    "# Loading preprocessed dataset\n",
    "file_path = \"/Users/lalitaneeharikavajjhala/Desktop/Research credits /Data/norm_dataset.csv\"\n",
    "df = pd.read_csv(file_path)"
   ]
  },
  {
   "cell_type": "code",
   "execution_count": 231,
   "metadata": {},
   "outputs": [
    {
     "data": {
      "text/html": [
       "<div>\n",
       "<style scoped>\n",
       "    .dataframe tbody tr th:only-of-type {\n",
       "        vertical-align: middle;\n",
       "    }\n",
       "\n",
       "    .dataframe tbody tr th {\n",
       "        vertical-align: top;\n",
       "    }\n",
       "\n",
       "    .dataframe thead th {\n",
       "        text-align: right;\n",
       "    }\n",
       "</style>\n",
       "<table border=\"1\" class=\"dataframe\">\n",
       "  <thead>\n",
       "    <tr style=\"text-align: right;\">\n",
       "      <th></th>\n",
       "      <th>text</th>\n",
       "      <th>norm</th>\n",
       "    </tr>\n",
       "  </thead>\n",
       "  <tbody>\n",
       "    <tr>\n",
       "      <th>0</th>\n",
       "      <td>Client agrees to pay to Company the sum of $5,000 (the “Contract Price”) to design and develop a website for Client (the “Client Website”) in accordance with the accompanying Scope of Work, attached to this Agreement as Exhibit A.</td>\n",
       "      <td>1</td>\n",
       "    </tr>\n",
       "    <tr>\n",
       "      <th>1</th>\n",
       "      <td>Company will use its best efforts to deliver the Client Website in the time frame specified in the Scope of Work.</td>\n",
       "      <td>1</td>\n",
       "    </tr>\n",
       "    <tr>\n",
       "      <th>2</th>\n",
       "      <td>All written content submitted by Client for use in the Client Website must be typewritten, proofread and delivered to Company in the body of an email message or as a Microsoft Word electronic document or plaint text electronic document.</td>\n",
       "      <td>1</td>\n",
       "    </tr>\n",
       "    <tr>\n",
       "      <th>3</th>\n",
       "      <td>It is Client’s sole responsibility to check the accuracy of the written content and correct any errors prior to submission for final publication.</td>\n",
       "      <td>1</td>\n",
       "    </tr>\n",
       "    <tr>\n",
       "      <th>4</th>\n",
       "      <td>Client further agrees that Company may use and display the graphics and other web design elements of Client’s website as examples of Company website design and development work.</td>\n",
       "      <td>1</td>\n",
       "    </tr>\n",
       "  </tbody>\n",
       "</table>\n",
       "</div>"
      ],
      "text/plain": [
       "                                                                                                                                                                                                                                           text  \\\n",
       "0        Client agrees to pay to Company the sum of $5,000 (the “Contract Price”) to design and develop a website for Client (the “Client Website”) in accordance with the accompanying Scope of Work, attached to this Agreement as Exhibit A.   \n",
       "1                                                                                                                             Company will use its best efforts to deliver the Client Website in the time frame specified in the Scope of Work.   \n",
       "2  All written content submitted by Client for use in the Client Website must be typewritten, proofread and delivered to Company in the body of an email message or as a Microsoft Word electronic document or plaint text electronic document.   \n",
       "3                                                                                             It is Client’s sole responsibility to check the accuracy of the written content and correct any errors prior to submission for final publication.   \n",
       "4                                                             Client further agrees that Company may use and display the graphics and other web design elements of Client’s website as examples of Company website design and development work.   \n",
       "\n",
       "   norm  \n",
       "0     1  \n",
       "1     1  \n",
       "2     1  \n",
       "3     1  \n",
       "4     1  "
      ]
     },
     "execution_count": 231,
     "metadata": {},
     "output_type": "execute_result"
    }
   ],
   "source": [
    "# Previewing data head and extending the max column width\n",
    "pd.set_option('display.max_colwidth', None)\n",
    "df.head()"
   ]
  },
  {
   "cell_type": "code",
   "execution_count": 232,
   "metadata": {},
   "outputs": [],
   "source": [
    "# Removeing duplicates\n",
    "df.drop_duplicates(keep='first', inplace=True)"
   ]
  },
  {
   "cell_type": "code",
   "execution_count": 233,
   "metadata": {},
   "outputs": [
    {
     "data": {
      "text/plain": [
       "0      1\n",
       "1      1\n",
       "2      1\n",
       "3      1\n",
       "4      1\n",
       "      ..\n",
       "361    1\n",
       "362    1\n",
       "363    1\n",
       "364    1\n",
       "365    1\n",
       "Name: norm, Length: 360, dtype: int64"
      ]
     },
     "execution_count": 233,
     "metadata": {},
     "output_type": "execute_result"
    }
   ],
   "source": [
    "# Assigning norms to target variable. Values are already numeric\n",
    "y = df['norm']\n",
    "y"
   ]
  },
  {
   "cell_type": "markdown",
   "metadata": {},
   "source": [
    "### PRE PROCESSING"
   ]
  },
  {
   "cell_type": "code",
   "execution_count": 234,
   "metadata": {},
   "outputs": [],
   "source": [
    "# Standard keras pre-processing\n",
    "maxlen = 200 # Highest word count is 555 and mean is 43\n",
    "max_words = 2000\n",
    "tokenizer = Tokenizer(num_words=max_words, lower=True)\n",
    "tokenizer.fit_on_texts(df.text)\n",
    "\n",
    "# Functions to transform text to feature_vectors \n",
    "def get_features(text_series):\n",
    "    sequences = tokenizer.texts_to_sequences(text_series)\n",
    "    return pad_sequences(sequences, maxlen=maxlen)"
   ]
  },
  {
   "cell_type": "code",
   "execution_count": 235,
   "metadata": {},
   "outputs": [
    {
     "name": "stdout",
     "output_type": "stream",
     "text": [
      "(360, 200) (360,)\n"
     ]
    }
   ],
   "source": [
    "# Calling function to create features 'X'\n",
    "X = get_features(df.text)\n",
    "\n",
    "print(X.shape, y.shape)"
   ]
  },
  {
   "cell_type": "code",
   "execution_count": 236,
   "metadata": {},
   "outputs": [],
   "source": [
    "# Splitting data into training and testing sets\n",
    "X_train, X_test, y_train, y_test = train_test_split(X,y, test_size=0.2, random_state=0, shuffle=True, stratify=y)"
   ]
  },
  {
   "cell_type": "code",
   "execution_count": 237,
   "metadata": {},
   "outputs": [],
   "source": [
    "# Law2vec 100 dimensional word embeddings \n",
    "from numpy import array, asarray, zeros\n",
    "vocab_size = len(tokenizer.word_index) + 1\n",
    "\n",
    "embeddings_dictionary = dict()\n",
    "# This file contains pre trained word embeddings \n",
    "law2vec_file = open(\"/Users/lalitaneeharikavajjhala/Desktop/Research credits /Data/Law2Vec.100d.txt\", encoding=\"utf8\")"
   ]
  },
  {
   "cell_type": "code",
   "execution_count": 238,
   "metadata": {},
   "outputs": [],
   "source": [
    "# Parsing each line and store word-vector pairs in a dictionary\n",
    "for line in law2vec_file:\n",
    "    records = line.split()\n",
    "    word = records[0]\n",
    "    vector_dimensions = asarray(records[1:], dtype='float32')\n",
    "    embeddings_dictionary[word] = vector_dimensions\n",
    "law2vec_file.close()\n",
    "# Here we are extracting a word and its corresponding embedding vector and storing in a dict"
   ]
  },
  {
   "cell_type": "code",
   "execution_count": 239,
   "metadata": {},
   "outputs": [],
   "source": [
    "# Each row corresponds to a word with its 100 dimensional word vector\n",
    "embedding_matrix = zeros((vocab_size, 100))\n"
   ]
  },
  {
   "cell_type": "code",
   "execution_count": 240,
   "metadata": {},
   "outputs": [],
   "source": [
    "# tokenizer.word_index is a list of (word, id) tuples\n",
    "for word, index in tokenizer.word_index.items():\n",
    "    embedding_vector = embeddings_dictionary.get(word)\n",
    "    if embedding_vector is not None:\n",
    "        embedding_matrix[index] = embedding_vector\n",
    "# Initially this matrix is filled with zeros and later it will get filled with actual word vectors obtained from the pre trained embeddings "
   ]
  },
  {
   "cell_type": "markdown",
   "metadata": {},
   "source": [
    "### MODEL - CONVULUTION NEURAL NETWORK "
   ]
  },
  {
   "cell_type": "code",
   "execution_count": 241,
   "metadata": {},
   "outputs": [
    {
     "name": "stdout",
     "output_type": "stream",
     "text": [
      "Model: \"sequential_10\"\n",
      "_________________________________________________________________\n",
      " Layer (type)                Output Shape              Param #   \n",
      "=================================================================\n",
      " embedding_10 (Embedding)    (None, 200, 100)          230300    \n",
      "                                                                 \n",
      " dropout_10 (Dropout)        (None, 200, 100)          0         \n",
      "                                                                 \n",
      " conv1d_10 (Conv1D)          (None, 193, 300)          240300    \n",
      "                                                                 \n",
      " global_max_pooling1d_10 (G  (None, 300)               0         \n",
      " lobalMaxPooling1D)                                              \n",
      "                                                                 \n",
      " flatten_10 (Flatten)        (None, 300)               0         \n",
      "                                                                 \n",
      " dense_10 (Dense)            (None, 1)                 301       \n",
      "                                                                 \n",
      " activation_10 (Activation)  (None, 1)                 0         \n",
      "                                                                 \n",
      "=================================================================\n",
      "Total params: 470901 (1.80 MB)\n",
      "Trainable params: 240601 (939.85 KB)\n",
      "Non-trainable params: 230300 (899.61 KB)\n",
      "_________________________________________________________________\n"
     ]
    }
   ],
   "source": [
    "filter_length = 300\n",
    "num_classes = 1 # since the number of output classes is 1 (PREDICTION = non or non norm)\n",
    "\n",
    "embedding_layer = Embedding(vocab_size, 100, weights=[embedding_matrix], input_length=maxlen, trainable=False)\n",
    "model = Sequential()\n",
    "model.add(embedding_layer)\n",
    "# model.add(Embedding(max_words, 20, input_length=maxlen))\n",
    "model.add(Dropout(0.1))\n",
    "model.add(Conv1D(filter_length, kernel_size=8, activation='relu'))\n",
    "model.add(GlobalMaxPool1D())\n",
    "model.add(Flatten())\n",
    "model.add(Dense(num_classes))\n",
    "model.add(Activation('sigmoid'))\n",
    "\n",
    "model.compile(optimizer='adam', loss='binary_crossentropy', metrics=['accuracy'])\n",
    "model.summary()"
   ]
  },
  {
   "cell_type": "code",
   "execution_count": 242,
   "metadata": {},
   "outputs": [
    {
     "name": "stdout",
     "output_type": "stream",
     "text": [
      "Epoch 1/20\n"
     ]
    },
    {
     "name": "stdout",
     "output_type": "stream",
     "text": [
      "7/9 [======================>.......] - ETA: 0s - loss: 0.8041 - accuracy: 0.4598WARNING:tensorflow:Learning rate reduction is conditioned on metric `val_loss` which is not available. Available metrics are: loss,accuracy,lr\n",
      "WARNING:tensorflow:Early stopping conditioned on metric `val_loss` which is not available. Available metrics are: loss,accuracy,lr\n",
      "9/9 [==============================] - 0s 22ms/step - loss: 0.7624 - accuracy: 0.5278 - lr: 0.0010\n",
      "Epoch 2/20\n",
      "7/9 [======================>.......] - ETA: 0s - loss: 0.5213 - accuracy: 0.7679WARNING:tensorflow:Learning rate reduction is conditioned on metric `val_loss` which is not available. Available metrics are: loss,accuracy,lr\n",
      "WARNING:tensorflow:Early stopping conditioned on metric `val_loss` which is not available. Available metrics are: loss,accuracy,lr\n",
      "9/9 [==============================] - 0s 21ms/step - loss: 0.5236 - accuracy: 0.7431 - lr: 0.0010\n",
      "Epoch 3/20\n",
      "7/9 [======================>.......] - ETA: 0s - loss: 0.4090 - accuracy: 0.9062WARNING:tensorflow:Learning rate reduction is conditioned on metric `val_loss` which is not available. Available metrics are: loss,accuracy,lr\n",
      "WARNING:tensorflow:Early stopping conditioned on metric `val_loss` which is not available. Available metrics are: loss,accuracy,lr\n",
      "9/9 [==============================] - 0s 21ms/step - loss: 0.4089 - accuracy: 0.8924 - lr: 0.0010\n",
      "Epoch 4/20\n",
      "7/9 [======================>.......] - ETA: 0s - loss: 0.3334 - accuracy: 0.9554WARNING:tensorflow:Learning rate reduction is conditioned on metric `val_loss` which is not available. Available metrics are: loss,accuracy,lr\n",
      "WARNING:tensorflow:Early stopping conditioned on metric `val_loss` which is not available. Available metrics are: loss,accuracy,lr\n",
      "9/9 [==============================] - 0s 21ms/step - loss: 0.3292 - accuracy: 0.9410 - lr: 0.0010\n",
      "Epoch 5/20\n",
      "7/9 [======================>.......] - ETA: 0s - loss: 0.2685 - accuracy: 0.9464WARNING:tensorflow:Learning rate reduction is conditioned on metric `val_loss` which is not available. Available metrics are: loss,accuracy,lr\n",
      "WARNING:tensorflow:Early stopping conditioned on metric `val_loss` which is not available. Available metrics are: loss,accuracy,lr\n",
      "9/9 [==============================] - 0s 21ms/step - loss: 0.2689 - accuracy: 0.9549 - lr: 0.0010\n",
      "Epoch 6/20\n",
      "7/9 [======================>.......] - ETA: 0s - loss: 0.2266 - accuracy: 0.9732WARNING:tensorflow:Learning rate reduction is conditioned on metric `val_loss` which is not available. Available metrics are: loss,accuracy,lr\n",
      "WARNING:tensorflow:Early stopping conditioned on metric `val_loss` which is not available. Available metrics are: loss,accuracy,lr\n",
      "9/9 [==============================] - 0s 21ms/step - loss: 0.2232 - accuracy: 0.9688 - lr: 0.0010\n",
      "Epoch 7/20\n",
      "7/9 [======================>.......] - ETA: 0s - loss: 0.1892 - accuracy: 0.9866WARNING:tensorflow:Learning rate reduction is conditioned on metric `val_loss` which is not available. Available metrics are: loss,accuracy,lr\n",
      "WARNING:tensorflow:Early stopping conditioned on metric `val_loss` which is not available. Available metrics are: loss,accuracy,lr\n",
      "9/9 [==============================] - 0s 21ms/step - loss: 0.1810 - accuracy: 0.9861 - lr: 0.0010\n",
      "Epoch 8/20\n",
      "7/9 [======================>.......] - ETA: 0s - loss: 0.1520 - accuracy: 0.9955WARNING:tensorflow:Learning rate reduction is conditioned on metric `val_loss` which is not available. Available metrics are: loss,accuracy,lr\n",
      "WARNING:tensorflow:Early stopping conditioned on metric `val_loss` which is not available. Available metrics are: loss,accuracy,lr\n",
      "9/9 [==============================] - 0s 22ms/step - loss: 0.1453 - accuracy: 0.9965 - lr: 0.0010\n",
      "Epoch 9/20\n",
      "7/9 [======================>.......] - ETA: 0s - loss: 0.1233 - accuracy: 1.0000WARNING:tensorflow:Learning rate reduction is conditioned on metric `val_loss` which is not available. Available metrics are: loss,accuracy,lr\n",
      "WARNING:tensorflow:Early stopping conditioned on metric `val_loss` which is not available. Available metrics are: loss,accuracy,lr\n",
      "9/9 [==============================] - 0s 22ms/step - loss: 0.1193 - accuracy: 1.0000 - lr: 0.0010\n",
      "Epoch 10/20\n",
      "7/9 [======================>.......] - ETA: 0s - loss: 0.1001 - accuracy: 1.0000WARNING:tensorflow:Learning rate reduction is conditioned on metric `val_loss` which is not available. Available metrics are: loss,accuracy,lr\n",
      "WARNING:tensorflow:Early stopping conditioned on metric `val_loss` which is not available. Available metrics are: loss,accuracy,lr\n",
      "9/9 [==============================] - 0s 21ms/step - loss: 0.0994 - accuracy: 1.0000 - lr: 0.0010\n",
      "Epoch 11/20\n",
      "7/9 [======================>.......] - ETA: 0s - loss: 0.0859 - accuracy: 1.0000WARNING:tensorflow:Learning rate reduction is conditioned on metric `val_loss` which is not available. Available metrics are: loss,accuracy,lr\n",
      "WARNING:tensorflow:Early stopping conditioned on metric `val_loss` which is not available. Available metrics are: loss,accuracy,lr\n",
      "9/9 [==============================] - 0s 21ms/step - loss: 0.0842 - accuracy: 1.0000 - lr: 0.0010\n",
      "Epoch 12/20\n",
      "7/9 [======================>.......] - ETA: 0s - loss: 0.0690 - accuracy: 1.0000WARNING:tensorflow:Learning rate reduction is conditioned on metric `val_loss` which is not available. Available metrics are: loss,accuracy,lr\n",
      "WARNING:tensorflow:Early stopping conditioned on metric `val_loss` which is not available. Available metrics are: loss,accuracy,lr\n",
      "9/9 [==============================] - 0s 21ms/step - loss: 0.0688 - accuracy: 1.0000 - lr: 0.0010\n",
      "Epoch 13/20\n",
      "7/9 [======================>.......] - ETA: 0s - loss: 0.0618 - accuracy: 1.0000WARNING:tensorflow:Learning rate reduction is conditioned on metric `val_loss` which is not available. Available metrics are: loss,accuracy,lr\n",
      "WARNING:tensorflow:Early stopping conditioned on metric `val_loss` which is not available. Available metrics are: loss,accuracy,lr\n",
      "9/9 [==============================] - 0s 21ms/step - loss: 0.0589 - accuracy: 1.0000 - lr: 0.0010\n",
      "Epoch 14/20\n",
      "7/9 [======================>.......] - ETA: 0s - loss: 0.0474 - accuracy: 1.0000WARNING:tensorflow:Learning rate reduction is conditioned on metric `val_loss` which is not available. Available metrics are: loss,accuracy,lr\n",
      "WARNING:tensorflow:Early stopping conditioned on metric `val_loss` which is not available. Available metrics are: loss,accuracy,lr\n",
      "9/9 [==============================] - 0s 22ms/step - loss: 0.0467 - accuracy: 1.0000 - lr: 0.0010\n",
      "Epoch 15/20\n",
      "7/9 [======================>.......] - ETA: 0s - loss: 0.0437 - accuracy: 1.0000WARNING:tensorflow:Learning rate reduction is conditioned on metric `val_loss` which is not available. Available metrics are: loss,accuracy,lr\n",
      "WARNING:tensorflow:Early stopping conditioned on metric `val_loss` which is not available. Available metrics are: loss,accuracy,lr\n",
      "9/9 [==============================] - 0s 21ms/step - loss: 0.0436 - accuracy: 1.0000 - lr: 0.0010\n",
      "Epoch 16/20\n",
      "7/9 [======================>.......] - ETA: 0s - loss: 0.0370 - accuracy: 1.0000WARNING:tensorflow:Learning rate reduction is conditioned on metric `val_loss` which is not available. Available metrics are: loss,accuracy,lr\n",
      "WARNING:tensorflow:Early stopping conditioned on metric `val_loss` which is not available. Available metrics are: loss,accuracy,lr\n",
      "9/9 [==============================] - 0s 22ms/step - loss: 0.0354 - accuracy: 1.0000 - lr: 0.0010\n",
      "Epoch 17/20\n",
      "7/9 [======================>.......] - ETA: 0s - loss: 0.0327 - accuracy: 1.0000WARNING:tensorflow:Learning rate reduction is conditioned on metric `val_loss` which is not available. Available metrics are: loss,accuracy,lr\n",
      "WARNING:tensorflow:Early stopping conditioned on metric `val_loss` which is not available. Available metrics are: loss,accuracy,lr\n",
      "9/9 [==============================] - 0s 22ms/step - loss: 0.0315 - accuracy: 1.0000 - lr: 0.0010\n",
      "Epoch 18/20\n",
      "7/9 [======================>.......] - ETA: 0s - loss: 0.0286 - accuracy: 1.0000WARNING:tensorflow:Learning rate reduction is conditioned on metric `val_loss` which is not available. Available metrics are: loss,accuracy,lr\n",
      "WARNING:tensorflow:Early stopping conditioned on metric `val_loss` which is not available. Available metrics are: loss,accuracy,lr\n",
      "9/9 [==============================] - 0s 22ms/step - loss: 0.0279 - accuracy: 1.0000 - lr: 0.0010\n",
      "Epoch 19/20\n",
      "7/9 [======================>.......] - ETA: 0s - loss: 0.0253 - accuracy: 1.0000WARNING:tensorflow:Learning rate reduction is conditioned on metric `val_loss` which is not available. Available metrics are: loss,accuracy,lr\n",
      "WARNING:tensorflow:Early stopping conditioned on metric `val_loss` which is not available. Available metrics are: loss,accuracy,lr\n",
      "9/9 [==============================] - 0s 22ms/step - loss: 0.0242 - accuracy: 1.0000 - lr: 0.0010\n",
      "Epoch 20/20\n",
      "7/9 [======================>.......] - ETA: 0s - loss: 0.0211 - accuracy: 1.0000WARNING:tensorflow:Learning rate reduction is conditioned on metric `val_loss` which is not available. Available metrics are: loss,accuracy,lr\n",
      "WARNING:tensorflow:Early stopping conditioned on metric `val_loss` which is not available. Available metrics are: loss,accuracy,lr\n",
      "9/9 [==============================] - 0s 22ms/step - loss: 0.0207 - accuracy: 1.0000 - lr: 0.0010\n"
     ]
    }
   ],
   "source": [
    "# Fitting the model\n",
    "callbacks = [\n",
    "    ReduceLROnPlateau(), \n",
    "    EarlyStopping(patience=4), \n",
    "]\n",
    "\n",
    "history = model.fit(X_train, y_train,\n",
    "                    epochs=20,\n",
    "                    batch_size=32,\n",
    "                    callbacks=callbacks)"
   ]
  },
  {
   "cell_type": "markdown",
   "metadata": {},
   "source": [
    "### MODEL EVALUATION"
   ]
  },
  {
   "cell_type": "code",
   "execution_count": 243,
   "metadata": {},
   "outputs": [
    {
     "name": "stdout",
     "output_type": "stream",
     "text": [
      "3/3 [==============================] - 0s 7ms/step - loss: 0.2998 - accuracy: 0.8750\n",
      "3/3 [==============================] - 0s 6ms/step\n",
      "loss: 0.29978039860725403\n",
      "accuracy: 0.875\n"
     ]
    }
   ],
   "source": [
    "# Evaluating using metrics\n",
    "metrics = model.evaluate(X_test, y_test)\n",
    "y_pred = model.predict(X_test)\n",
    "print(\"{}: {}\".format(model.metrics_names[0], metrics[0]))\n",
    "print(\"{}: {}\".format(model.metrics_names[1], metrics[1]))\n"
   ]
  },
  {
   "cell_type": "code",
   "execution_count": 244,
   "metadata": {},
   "outputs": [
    {
     "name": "stdout",
     "output_type": "stream",
     "text": [
      "3/3 [==============================] - 0s 6ms/step\n",
      "Precision: 0.8611111111111112\n",
      "Recall: 0.8857142857142857\n",
      "F1 Score: 0.8732394366197183\n"
     ]
    }
   ],
   "source": [
    "y_pred = model.predict(X_test)\n",
    "thresholded_preds = (y_pred > 0.5).astype(int)  # Applying threshold for binary classification\n",
    "precision = precision_score(y_test, thresholded_preds)\n",
    "recall = recall_score(y_test, thresholded_preds)\n",
    "f1 = f1_score(y_test, thresholded_preds)\n",
    "print(\"Precision:\", precision)\n",
    "print(\"Recall:\", recall)\n",
    "print(\"F1 Score:\", f1)\n"
   ]
  },
  {
   "cell_type": "markdown",
   "metadata": {},
   "source": [
    "### PREDICTING"
   ]
  },
  {
   "cell_type": "code",
   "execution_count": 245,
   "metadata": {},
   "outputs": [
    {
     "name": "stdout",
     "output_type": "stream",
     "text": [
      "1/1 [==============================] - 0s 8ms/step\n",
      "[[0.9178294]]\n",
      "[[1]]\n",
      "Norm\n"
     ]
    }
   ],
   "source": [
    "# Prediction\n",
    "x = [\"Each Party shall return to the other all of the other’s Confidential Information and any other material, information or samples relating to the Product which have been provided or made available to the other and shall not retain any copies and the Parties further agree not to make any further use of each other’s Confidential Information or any other information, data or samples relating to the Product provided or made available by the other Party, except as necessary to comply with its statutory, regulatory or licensing obligations; provided, however, that Kitov may retain such material, information and/or samples relating to the Product as may be necessary for Kitov to continue to sell the Product as permitted by Section ​5.4.4 below, following which, Kitov shall refrain from making any further use of Dexcel’s Confidential Information or any other information, data or samples and shall return any remaining Confidential Information and material, information or samples relating to the Product.\"]\n",
    "xt = get_features(x)\n",
    "prediction = model.predict(xt)\n",
    "probas = (prediction > 0.5).astype(int)\n",
    "\n",
    "if probas == [1]:\n",
    "    tag = 'Norm'\n",
    "else:\n",
    "    tag = 'Non-norm'\n",
    "\n",
    "print(prediction)\n",
    "print(probas)\n",
    "print(tag)"
   ]
  },
  {
   "cell_type": "markdown",
   "metadata": {},
   "source": [
    "### SAVING THE MODELS"
   ]
  },
  {
   "cell_type": "code",
   "execution_count": 246,
   "metadata": {},
   "outputs": [
    {
     "data": {
      "text/plain": [
       "['/Users/lalitaneeharikavajjhala/Desktop/Research credits /Models/BinaryLabelTokenizer.pkl']"
      ]
     },
     "execution_count": 246,
     "metadata": {},
     "output_type": "execute_result"
    }
   ],
   "source": [
    "# Saving the tokenizer\n",
    "joblib.dump(tokenizer, \"/Users/lalitaneeharikavajjhala/Desktop/Research credits /Models/BinaryLabelTokenizer.pkl\")"
   ]
  },
  {
   "cell_type": "code",
   "execution_count": 247,
   "metadata": {},
   "outputs": [
    {
     "data": {
      "text/plain": [
       "['/Users/lalitaneeharikavajjhala/Desktop/Research credits /Models/BinaryLabelModel_CNN.pkl']"
      ]
     },
     "execution_count": 247,
     "metadata": {},
     "output_type": "execute_result"
    }
   ],
   "source": [
    "# Saving the model \n",
    "joblib.dump(model, \"/Users/lalitaneeharikavajjhala/Desktop/Research credits /Models/BinaryLabelModel_CNN.pkl\")"
   ]
  },
  {
   "cell_type": "code",
   "execution_count": 3,
   "metadata": {},
   "outputs": [
    {
     "name": "stderr",
     "output_type": "stream",
     "text": [
      "/var/folders/lm/8dmqs1pd6qg4vn2y7m90m3pw0000gn/T/ipykernel_6670/369740287.py:17: UserWarning: color is redundantly defined by the 'color' keyword argument and the fmt string \"bo--\" (-> color='b'). The keyword argument will take precedence.\n",
      "  plt.plot(epochs, loss_values, 'bo--', label='Training Loss', color='teal')\n",
      "/var/folders/lm/8dmqs1pd6qg4vn2y7m90m3pw0000gn/T/ipykernel_6670/369740287.py:26: UserWarning: color is redundantly defined by the 'color' keyword argument and the fmt string \"ro--\" (-> color='r'). The keyword argument will take precedence.\n",
      "  plt.plot(epochs, accuracy_values, 'ro--', label='Training Accuracy', color='orange')\n"
     ]
    },
    {
     "data": {
      "image/png": "[encoded data removed]",
      "text/plain": [
       "<Figure size 1000x500 with 2 Axes>"
      ]
     },
     "metadata": {},
     "output_type": "display_data"
    }
   ],
   "source": [
    "import matplotlib.pyplot as plt\n",
    "\n",
    "# Define the epoch range\n",
    "epochs = range(1, 21)  # Assuming 20 epochs\n",
    "\n",
    "# Define the accuracy and loss values\n",
    "loss_values = [0.7624, 0.5236, 0.4089, 0.3292, 0.2689, 0.2232, 0.1810, 0.1453, 0.1193, 0.0994,\n",
    "               0.0842, 0.0688, 0.0589, 0.0467, 0.0436, 0.0354, 0.0315, 0.0279, 0.0242, 0.0207]\n",
    "accuracy_values = [0.5278, 0.7431, 0.8924, 0.9410, 0.9549, 0.9688, 0.9861, 0.9965, 1.0000, 1.0000,\n",
    "                   1.0000, 1.0000, 1.0000, 1.0000, 1.0000, 1.0000, 1.0000, 1.0000, 1.0000, 1.0000]\n",
    "\n",
    "# Create a plot\n",
    "plt.figure(figsize=(10, 5))\n",
    "\n",
    "# Plot training loss\n",
    "plt.subplot(1, 2, 1)\n",
    "plt.plot(epochs, loss_values, 'bo--', label='Training Loss', color='teal')\n",
    "plt.title('Training Loss')\n",
    "plt.xlabel('Epochs')\n",
    "plt.ylabel('Loss')\n",
    "plt.xticks(epochs)  # Set ticks for whole number epochs\n",
    "plt.legend()\n",
    "\n",
    "# Plot training accuracy\n",
    "plt.subplot(1, 2, 2)\n",
    "plt.plot(epochs, accuracy_values, 'ro--', label='Training Accuracy', color='orange')\n",
    "plt.title('Training Accuracy')\n",
    "plt.xlabel('Epochs')\n",
    "plt.ylabel('Accuracy')\n",
    "plt.xticks(epochs)  # Set ticks for whole number epochs\n",
    "plt.legend()\n",
    "\n",
    "plt.tight_layout()\n",
    "plt.show()\n"
   ]
  }
 ],
 "metadata": {
  "kernelspec": {
   "display_name": "Python 3",
   "language": "python",
   "name": "python3"
  },
  "language_info": {
   "codemirror_mode": {
    "name": "ipython",
    "version": 3
   },
   "file_extension": ".py",
   "mimetype": "text/x-python",
   "name": "python",
   "nbconvert_exporter": "python",
   "pygments_lexer": "ipython3",
   "version": "3.11.8"
  }
 },
 "nbformat": 4,
 "nbformat_minor": 2
}
