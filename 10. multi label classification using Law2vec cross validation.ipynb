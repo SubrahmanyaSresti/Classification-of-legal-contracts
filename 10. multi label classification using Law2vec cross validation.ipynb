{
  "cells": [
    {
      "cell_type": "code",
      "execution_count": 73,
      "metadata": {
        "id": "MXD6W2ztlfkt"
      },
      "outputs": [],
      "source": [
        "import pandas as pd\n",
        "import numpy as np\n",
        "from ast import literal_eval\n",
        "from sklearn.preprocessing import MultiLabelBinarizer\n",
        "from keras.preprocessing.text import Tokenizer\n",
        "from keras.preprocessing.sequence import pad_sequences\n",
        "from numpy import array, asarray, zeros\n",
        "from sklearn.model_selection import train_test_split, KFold\n",
        "from keras.models import Sequential\n",
        "from keras.layers import Dense, Embedding, GlobalMaxPool1D, Conv1D, Dropout\n",
        "from keras.callbacks import EarlyStopping, ReduceLROnPlateau\n",
        "from keras.losses import binary_crossentropy\n",
        "from sklearn.metrics import average_precision_score, recall_score, f1_score, precision_score\n"
      ]
    },
    {
      "cell_type": "code",
      "execution_count": 74,
      "metadata": {
        "id": "ZS-nAlG-macg"
      },
      "outputs": [],
      "source": [
        "\n",
        "# Load preprocessed dataset\n",
        "file_path = \"/Users/lalitaneeharikavajjhala/Desktop/Research credits /Data/preprocessed_data.csv\"\n",
        "df = pd.read_csv(file_path)\n"
      ]
    },
    {
      "cell_type": "code",
      "execution_count": 75,
      "metadata": {
        "colab": {
          "base_uri": "https://localhost:8080/",
          "height": 293
        },
        "id": "0rKqlkNzmfQ3",
        "outputId": "e353f977-ece0-4dde-fadb-577a28421c8b"
      },
      "outputs": [
        {
          "data": {
            "text/html": [
              "<div>\n",
              "<style scoped>\n",
              "    .dataframe tbody tr th:only-of-type {\n",
              "        vertical-align: middle;\n",
              "    }\n",
              "\n",
              "    .dataframe tbody tr th {\n",
              "        vertical-align: top;\n",
              "    }\n",
              "\n",
              "    .dataframe thead th {\n",
              "        text-align: right;\n",
              "    }\n",
              "</style>\n",
              "<table border=\"1\" class=\"dataframe\">\n",
              "  <thead>\n",
              "    <tr style=\"text-align: right;\">\n",
              "      <th></th>\n",
              "      <th>tag</th>\n",
              "      <th>sentence</th>\n",
              "    </tr>\n",
              "  </thead>\n",
              "  <tbody>\n",
              "    <tr>\n",
              "      <th>0</th>\n",
              "      <td>['obligation']</td>\n",
              "      <td>we will issue a certificate of completion for each manager trainee who completes the initial training program we require to our satisfaction each such person will be referred to a a certified manager</td>\n",
              "    </tr>\n",
              "    <tr>\n",
              "      <th>1</th>\n",
              "      <td>['obligation']</td>\n",
              "      <td>elephant talk bear the risk of and shall indemnify against high usage fraud and bed of it elephant talk customer</td>\n",
              "    </tr>\n",
              "    <tr>\n",
              "      <th>2</th>\n",
              "      <td>['obligation']</td>\n",
              "      <td>subject to the term and condition of this agreement aimmune shall be responsible for the development of the product a set forth herein aimmune itself or with or through it affiliate and sublicensees shall use commercially reasonable effort to perform the development activity for the product to i achieve the development milestone set forth in section and ii obtain regulatory approval for the product</td>\n",
              "    </tr>\n",
              "    <tr>\n",
              "      <th>3</th>\n",
              "      <td>['obligation']</td>\n",
              "      <td>ediets shall ensure that the ediets content complies with editorial guideline</td>\n",
              "    </tr>\n",
              "    <tr>\n",
              "      <th>4</th>\n",
              "      <td>['obligation']</td>\n",
              "      <td>auriemma will participate in one recording session annually during the service period of not more than two hour not including travel time to record a radio advertising spot at a date and location to be mutually agreed upon</td>\n",
              "    </tr>\n",
              "  </tbody>\n",
              "</table>\n",
              "</div>"
            ],
            "text/plain": [
              "              tag  \\\n",
              "0  ['obligation']   \n",
              "1  ['obligation']   \n",
              "2  ['obligation']   \n",
              "3  ['obligation']   \n",
              "4  ['obligation']   \n",
              "\n",
              "                                                                                                                                                                                                                                                                                                                                                                                                            sentence  \n",
              "0                                                                                                                                                                                                            we will issue a certificate of completion for each manager trainee who completes the initial training program we require to our satisfaction each such person will be referred to a a certified manager  \n",
              "1                                                                                                                                                                                                                                                                                                   elephant talk bear the risk of and shall indemnify against high usage fraud and bed of it elephant talk customer  \n",
              "2  subject to the term and condition of this agreement aimmune shall be responsible for the development of the product a set forth herein aimmune itself or with or through it affiliate and sublicensees shall use commercially reasonable effort to perform the development activity for the product to i achieve the development milestone set forth in section and ii obtain regulatory approval for the product  \n",
              "3                                                                                                                                                                                                                                                                                                                                      ediets shall ensure that the ediets content complies with editorial guideline  \n",
              "4                                                                                                                                                                                     auriemma will participate in one recording session annually during the service period of not more than two hour not including travel time to record a radio advertising spot at a date and location to be mutually agreed upon  "
            ]
          },
          "execution_count": 75,
          "metadata": {},
          "output_type": "execute_result"
        }
      ],
      "source": [
        "\n",
        "# Previewing data head and extend the max column width\n",
        "pd.set_option('display.max_colwidth', None)\n",
        "df.head()\n"
      ]
    },
    {
      "cell_type": "code",
      "execution_count": 76,
      "metadata": {
        "id": "uV4mchXMmjJX"
      },
      "outputs": [],
      "source": [
        "\n",
        "# Converting tags from strings to lists\n",
        "df['tag'] = df['tag'].apply(lambda x: literal_eval(x))\n",
        "\n",
        "# Encoding tags 'y'\n",
        "y = df['tag']\n",
        "multilabel = MultiLabelBinarizer()\n",
        "y = multilabel.fit_transform(y)\n",
        "\n",
        "\n"
      ]
    },
    {
      "cell_type": "code",
      "execution_count": 77,
      "metadata": {
        "id": "nfVyWXrZmowI"
      },
      "outputs": [],
      "source": [
        "# Standard keras pre-processing\n",
        "maxlen = 200\n",
        "max_words = 2000\n",
        "tokenizer = Tokenizer(num_words=max_words, lower=True)\n",
        "tokenizer.fit_on_texts(df.sentence)\n",
        "\n",
        "# Functions to transform text to feature_vectors\n",
        "def get_features(text_series):\n",
        "    sequences = tokenizer.texts_to_sequences(text_series)\n",
        "    return pad_sequences(sequences, maxlen=maxlen)\n",
        "\n",
        "# Calling function to create features 'X'\n",
        "X = get_features(df.sentence)\n"
      ]
    },
    {
      "cell_type": "code",
      "execution_count": 78,
      "metadata": {
        "id": "LN9UHOPumsl2"
      },
      "outputs": [],
      "source": [
        "\n",
        "# Load Law2Vec embeddings\n",
        "embeddings_dictionary = {}\n",
        "law2vec_file = open(\"/Users/lalitaneeharikavajjhala/Desktop/Research credits /Data/Law2Vec.100d.txt\", encoding=\"utf8\")\n",
        "\n",
        "for line in law2vec_file:\n",
        "    records = line.split()\n",
        "    word = records[0]\n",
        "    vector_dimensions = asarray(records[1:], dtype='float32')\n",
        "    embeddings_dictionary[word] = vector_dimensions\n",
        "\n",
        "law2vec_file.close()\n"
      ]
    },
    {
      "cell_type": "code",
      "execution_count": 79,
      "metadata": {
        "colab": {
          "base_uri": "https://localhost:8080/"
        },
        "id": "PJLeX8aRmwDf",
        "outputId": "ec81498d-77a2-4791-9e4c-ecbb8aa9e1e4"
      },
      "outputs": [
        {
          "name": "stdout",
          "output_type": "stream",
          "text": [
            "Model: \"sequential_8\"\n",
            "_________________________________________________________________\n",
            " Layer (type)                Output Shape              Param #   \n",
            "=================================================================\n",
            " embedding_8 (Embedding)     (None, 200, 100)          292700    \n",
            "                                                                 \n",
            " dropout_8 (Dropout)         (None, 200, 100)          0         \n",
            "                                                                 \n",
            " conv1d_8 (Conv1D)           (None, 198, 300)          90300     \n",
            "                                                                 \n",
            " global_max_pooling1d_8 (Gl  (None, 300)               0         \n",
            " obalMaxPooling1D)                                               \n",
            "                                                                 \n",
            " dense_8 (Dense)             (None, 3)                 903       \n",
            "                                                                 \n",
            "=================================================================\n"
          ]
        },
        {
          "name": "stdout",
          "output_type": "stream",
          "text": [
            "Total params: 383903 (1.46 MB)\n",
            "Trainable params: 91203 (356.26 KB)\n",
            "Non-trainable params: 292700 (1.12 MB)\n",
            "_________________________________________________________________\n",
            "Shape of embedding matrix: (2927, 100)\n",
            "Epoch 1/25\n",
            "20/20 [==============================] - 0s 16ms/step - loss: 0.6591 - categorical_accuracy: 0.3905 - val_loss: 0.5912 - val_categorical_accuracy: 0.6772 - lr: 0.0010\n",
            "Epoch 2/25\n",
            "20/20 [==============================] - 0s 13ms/step - loss: 0.5972 - categorical_accuracy: 0.5778 - val_loss: 0.5410 - val_categorical_accuracy: 0.6850 - lr: 0.0010\n",
            "Epoch 3/25\n",
            "20/20 [==============================] - 0s 13ms/step - loss: 0.5374 - categorical_accuracy: 0.6937 - val_loss: 0.4858 - val_categorical_accuracy: 0.8031 - lr: 0.0010\n",
            "Epoch 4/25\n",
            "20/20 [==============================] - 0s 14ms/step - loss: 0.4810 - categorical_accuracy: 0.8048 - val_loss: 0.4370 - val_categorical_accuracy: 0.8110 - lr: 0.0010\n",
            "Epoch 5/25\n",
            "20/20 [==============================] - 0s 14ms/step - loss: 0.4220 - categorical_accuracy: 0.8365 - val_loss: 0.3979 - val_categorical_accuracy: 0.8189 - lr: 0.0010\n",
            "Epoch 6/25\n",
            "20/20 [==============================] - 0s 14ms/step - loss: 0.3783 - categorical_accuracy: 0.8238 - val_loss: 0.3720 - val_categorical_accuracy: 0.8268 - lr: 0.0010\n",
            "Epoch 7/25\n",
            "20/20 [==============================] - 0s 14ms/step - loss: 0.3309 - categorical_accuracy: 0.8460 - val_loss: 0.3154 - val_categorical_accuracy: 0.8583 - lr: 0.0010\n",
            "Epoch 8/25\n",
            "20/20 [==============================] - 0s 14ms/step - loss: 0.2894 - categorical_accuracy: 0.8778 - val_loss: 0.2898 - val_categorical_accuracy: 0.8740 - lr: 0.0010\n",
            "Epoch 9/25\n",
            "20/20 [==============================] - 0s 14ms/step - loss: 0.2642 - categorical_accuracy: 0.8651 - val_loss: 0.2762 - val_categorical_accuracy: 0.8740 - lr: 0.0010\n",
            "Epoch 10/25\n",
            "20/20 [==============================] - 0s 14ms/step - loss: 0.2355 - categorical_accuracy: 0.8746 - val_loss: 0.2558 - val_categorical_accuracy: 0.8819 - lr: 0.0010\n",
            "Epoch 11/25\n",
            "20/20 [==============================] - 0s 14ms/step - loss: 0.2071 - categorical_accuracy: 0.8952 - val_loss: 0.2433 - val_categorical_accuracy: 0.8898 - lr: 0.0010\n",
            "Epoch 12/25\n",
            "20/20 [==============================] - 0s 14ms/step - loss: 0.1916 - categorical_accuracy: 0.8921 - val_loss: 0.2293 - val_categorical_accuracy: 0.9055 - lr: 0.0010\n",
            "Epoch 13/25\n",
            "20/20 [==============================] - 0s 14ms/step - loss: 0.1768 - categorical_accuracy: 0.9032 - val_loss: 0.2235 - val_categorical_accuracy: 0.8976 - lr: 0.0010\n",
            "Epoch 14/25\n",
            "20/20 [==============================] - 0s 14ms/step - loss: 0.1575 - categorical_accuracy: 0.9095 - val_loss: 0.2094 - val_categorical_accuracy: 0.8819 - lr: 0.0010\n",
            "Epoch 15/25\n",
            "20/20 [==============================] - 0s 14ms/step - loss: 0.1415 - categorical_accuracy: 0.9048 - val_loss: 0.2124 - val_categorical_accuracy: 0.8898 - lr: 0.0010\n",
            "Epoch 16/25\n",
            "20/20 [==============================] - 0s 14ms/step - loss: 0.1328 - categorical_accuracy: 0.9143 - val_loss: 0.2089 - val_categorical_accuracy: 0.9055 - lr: 0.0010\n",
            "Epoch 17/25\n",
            "20/20 [==============================] - 0s 15ms/step - loss: 0.1204 - categorical_accuracy: 0.9127 - val_loss: 0.1937 - val_categorical_accuracy: 0.8819 - lr: 0.0010\n",
            "Epoch 18/25\n",
            "20/20 [==============================] - 0s 16ms/step - loss: 0.1106 - categorical_accuracy: 0.9206 - val_loss: 0.1903 - val_categorical_accuracy: 0.8898 - lr: 0.0010\n",
            "Epoch 19/25\n",
            "20/20 [==============================] - 0s 14ms/step - loss: 0.0980 - categorical_accuracy: 0.9317 - val_loss: 0.1874 - val_categorical_accuracy: 0.8898 - lr: 0.0010\n",
            "Epoch 20/25\n",
            "20/20 [==============================] - 0s 14ms/step - loss: 0.0965 - categorical_accuracy: 0.9238 - val_loss: 0.1844 - val_categorical_accuracy: 0.8976 - lr: 0.0010\n",
            "Epoch 21/25\n",
            "20/20 [==============================] - 0s 14ms/step - loss: 0.0886 - categorical_accuracy: 0.9286 - val_loss: 0.1820 - val_categorical_accuracy: 0.8898 - lr: 0.0010\n",
            "Epoch 22/25\n",
            "20/20 [==============================] - 0s 14ms/step - loss: 0.0783 - categorical_accuracy: 0.9317 - val_loss: 0.1833 - val_categorical_accuracy: 0.8898 - lr: 0.0010\n",
            "Epoch 23/25\n",
            "20/20 [==============================] - 0s 14ms/step - loss: 0.0755 - categorical_accuracy: 0.9254 - val_loss: 0.1811 - val_categorical_accuracy: 0.8898 - lr: 0.0010\n",
            "Epoch 24/25\n",
            "20/20 [==============================] - 0s 14ms/step - loss: 0.0708 - categorical_accuracy: 0.9238 - val_loss: 0.1800 - val_categorical_accuracy: 0.8976 - lr: 0.0010\n",
            "Epoch 25/25\n",
            "20/20 [==============================] - 0s 14ms/step - loss: 0.0652 - categorical_accuracy: 0.9270 - val_loss: 0.1795 - val_categorical_accuracy: 0.8898 - lr: 0.0010\n",
            "Epoch 1/25\n",
            "20/20 [==============================] - 0s 15ms/step - loss: 0.0891 - categorical_accuracy: 0.9144 - val_loss: 0.0478 - val_categorical_accuracy: 0.9206 - lr: 0.0010\n",
            "Epoch 2/25\n",
            "20/20 [==============================] - 0s 14ms/step - loss: 0.0738 - categorical_accuracy: 0.9319 - val_loss: 0.0632 - val_categorical_accuracy: 0.8889 - lr: 0.0010\n",
            "Epoch 3/25\n",
            "20/20 [==============================] - 0s 14ms/step - loss: 0.0705 - categorical_accuracy: 0.9223 - val_loss: 0.0555 - val_categorical_accuracy: 0.8810 - lr: 0.0010\n",
            "Epoch 4/25\n",
            "20/20 [==============================] - 0s 14ms/step - loss: 0.0635 - categorical_accuracy: 0.9350 - val_loss: 0.0553 - val_categorical_accuracy: 0.9048 - lr: 0.0010\n",
            "Epoch 5/25\n",
            "20/20 [==============================] - 0s 14ms/step - loss: 0.0561 - categorical_accuracy: 0.9350 - val_loss: 0.0588 - val_categorical_accuracy: 0.8810 - lr: 0.0010\n",
            "Epoch 1/25\n",
            "20/20 [==============================] - 0s 15ms/step - loss: 0.0621 - categorical_accuracy: 0.9223 - val_loss: 0.0321 - val_categorical_accuracy: 0.8968 - lr: 0.0010\n",
            "Epoch 2/25\n",
            "20/20 [==============================] - 0s 14ms/step - loss: 0.0506 - categorical_accuracy: 0.9319 - val_loss: 0.0300 - val_categorical_accuracy: 0.8968 - lr: 0.0010\n",
            "Epoch 3/25\n",
            "20/20 [==============================] - 0s 14ms/step - loss: 0.0538 - categorical_accuracy: 0.9287 - val_loss: 0.0273 - val_categorical_accuracy: 0.9286 - lr: 0.0010\n",
            "Epoch 4/25\n",
            "20/20 [==============================] - 0s 14ms/step - loss: 0.0455 - categorical_accuracy: 0.9398 - val_loss: 0.0266 - val_categorical_accuracy: 0.9048 - lr: 0.0010\n",
            "Epoch 5/25\n",
            "20/20 [==============================] - 0s 14ms/step - loss: 0.0444 - categorical_accuracy: 0.9208 - val_loss: 0.0256 - val_categorical_accuracy: 0.9206 - lr: 0.0010\n",
            "Epoch 6/25\n",
            "20/20 [==============================] - 0s 14ms/step - loss: 0.0370 - categorical_accuracy: 0.9398 - val_loss: 0.0243 - val_categorical_accuracy: 0.9127 - lr: 0.0010\n",
            "Epoch 7/25\n",
            "20/20 [==============================] - 0s 14ms/step - loss: 0.0351 - categorical_accuracy: 0.9429 - val_loss: 0.0251 - val_categorical_accuracy: 0.9048 - lr: 0.0010\n",
            "Epoch 8/25\n",
            "20/20 [==============================] - 0s 14ms/step - loss: 0.0320 - categorical_accuracy: 0.9303 - val_loss: 0.0248 - val_categorical_accuracy: 0.9048 - lr: 0.0010\n",
            "Epoch 9/25\n",
            "20/20 [==============================] - 0s 14ms/step - loss: 0.0295 - categorical_accuracy: 0.9350 - val_loss: 0.0256 - val_categorical_accuracy: 0.9206 - lr: 0.0010\n",
            "Epoch 10/25\n",
            "20/20 [==============================] - 0s 14ms/step - loss: 0.0267 - categorical_accuracy: 0.9287 - val_loss: 0.0246 - val_categorical_accuracy: 0.9048 - lr: 0.0010\n",
            "Epoch 1/25\n",
            "20/20 [==============================] - 0s 15ms/step - loss: 0.0327 - categorical_accuracy: 0.9319 - val_loss: 0.0105 - val_categorical_accuracy: 0.9444 - lr: 0.0010\n",
            "Epoch 2/25\n",
            "20/20 [==============================] - 0s 14ms/step - loss: 0.0292 - categorical_accuracy: 0.9350 - val_loss: 0.0109 - val_categorical_accuracy: 0.9286 - lr: 0.0010\n",
            "Epoch 3/25\n",
            "20/20 [==============================] - 0s 14ms/step - loss: 0.0282 - categorical_accuracy: 0.9366 - val_loss: 0.0130 - val_categorical_accuracy: 0.9127 - lr: 0.0010\n",
            "Epoch 4/25\n",
            "20/20 [==============================] - 0s 14ms/step - loss: 0.0255 - categorical_accuracy: 0.9255 - val_loss: 0.0114 - val_categorical_accuracy: 0.9524 - lr: 0.0010\n",
            "Epoch 5/25\n",
            "20/20 [==============================] - 0s 14ms/step - loss: 0.0252 - categorical_accuracy: 0.9398 - val_loss: 0.0107 - val_categorical_accuracy: 0.9444 - lr: 0.0010\n",
            "Epoch 1/25\n",
            "20/20 [==============================] - 0s 15ms/step - loss: 0.0234 - categorical_accuracy: 0.9429 - val_loss: 0.0090 - val_categorical_accuracy: 0.9365 - lr: 0.0010\n",
            "Epoch 2/25\n",
            "20/20 [==============================] - 0s 14ms/step - loss: 0.0218 - categorical_accuracy: 0.9303 - val_loss: 0.0090 - val_categorical_accuracy: 0.9365 - lr: 0.0010\n",
            "Epoch 3/25\n",
            "20/20 [==============================] - 0s 14ms/step - loss: 0.0211 - categorical_accuracy: 0.9334 - val_loss: 0.0102 - val_categorical_accuracy: 0.9286 - lr: 0.0010\n",
            "Epoch 4/25\n",
            "20/20 [==============================] - 0s 14ms/step - loss: 0.0225 - categorical_accuracy: 0.9303 - val_loss: 0.0098 - val_categorical_accuracy: 0.9524 - lr: 0.0010\n",
            "Epoch 5/25\n",
            "20/20 [==============================] - 0s 14ms/step - loss: 0.0174 - categorical_accuracy: 0.9350 - val_loss: 0.0107 - val_categorical_accuracy: 0.9762 - lr: 0.0010\n",
            "Epoch 1/25\n",
            "20/20 [==============================] - 0s 15ms/step - loss: 0.0178 - categorical_accuracy: 0.9255 - val_loss: 0.0074 - val_categorical_accuracy: 0.9365 - lr: 0.0010\n",
            "Epoch 2/25\n",
            "20/20 [==============================] - 0s 14ms/step - loss: 0.0182 - categorical_accuracy: 0.9287 - val_loss: 0.0072 - val_categorical_accuracy: 0.9365 - lr: 0.0010\n",
            "Epoch 3/25\n",
            "20/20 [==============================] - 0s 14ms/step - loss: 0.0204 - categorical_accuracy: 0.9303 - val_loss: 0.0080 - val_categorical_accuracy: 0.9286 - lr: 0.0010\n",
            "Epoch 4/25\n",
            "20/20 [==============================] - 0s 14ms/step - loss: 0.0163 - categorical_accuracy: 0.9366 - val_loss: 0.0085 - val_categorical_accuracy: 0.9286 - lr: 0.0010\n",
            "Epoch 5/25\n",
            "20/20 [==============================] - 0s 14ms/step - loss: 0.0149 - categorical_accuracy: 0.9398 - val_loss: 0.0077 - val_categorical_accuracy: 0.9286 - lr: 0.0010\n",
            "Epoch 6/25\n",
            "20/20 [==============================] - 0s 14ms/step - loss: 0.0147 - categorical_accuracy: 0.9287 - val_loss: 0.0072 - val_categorical_accuracy: 0.9524 - lr: 0.0010\n",
            "Fold 1 - Train Loss: 0.0652 - Val Loss: 0.1795\n",
            "Fold 2 - Train Loss: 0.0561 - Val Loss: 0.0588\n",
            "Fold 3 - Train Loss: 0.0267 - Val Loss: 0.0246\n",
            "Fold 4 - Train Loss: 0.0252 - Val Loss: 0.0107\n",
            "Fold 5 - Train Loss: 0.0174 - Val Loss: 0.0107\n"
          ]
        }
      ],
      "source": [
        "\n",
        "# Create embedding matrix\n",
        "vocab_size = len(tokenizer.word_index) + 1\n",
        "embedding_dim = 100\n",
        "embedding_matrix = zeros((vocab_size, embedding_dim))\n",
        "\n",
        "for word, index in tokenizer.word_index.items():\n",
        "    embedding_vector = embeddings_dictionary.get(word)\n",
        "    if embedding_vector is not None:\n",
        "        embedding_matrix[index] = embedding_vector\n",
        "\n",
        "# Splitting data into training and testing sets\n",
        "X_train, X_test, y_train, y_test = train_test_split(X, y, test_size=0.2, random_state=0, shuffle=True, stratify=y)\n",
        "\n",
        "# Define CNN model with Law2Vec embeddings\n",
        "filter_length = 300\n",
        "num_classes = 3\n",
        "\n",
        "model = Sequential()\n",
        "model.add(Embedding(vocab_size, embedding_dim, input_length=maxlen, trainable=False))  # Removed weights argument\n",
        "model.add(Dropout(0.2))\n",
        "model.add(Conv1D(filter_length, 3, padding='valid', activation='relu', strides=1))\n",
        "model.add(GlobalMaxPool1D())\n",
        "model.add(Dense(num_classes, activation='sigmoid'))\n",
        "\n",
        "model.compile(optimizer='adam', loss='binary_crossentropy', metrics=['categorical_accuracy'])\n",
        "model.summary()\n",
        "\n",
        "# Set weights for the embedding layer\n",
        "print(\"Shape of embedding matrix:\", embedding_matrix.shape)\n",
        "model.layers[0].set_weights([embedding_matrix])\n",
        "\n",
        "# Define the callbacks\n",
        "callbacks = [\n",
        "    ReduceLROnPlateau(),\n",
        "    EarlyStopping(patience=4)\n",
        "]\n",
        "\n",
        "# Perform cross-validation\n",
        "kf = KFold(n_splits=6, shuffle=True)\n",
        "train_loss = []\n",
        "val_loss = []\n",
        "\n",
        "for train_index, val_index in kf.split(X_train):\n",
        "    X_fold_train, X_fold_val = X_train[train_index], X_train[val_index]\n",
        "    y_fold_train, y_fold_val = y_train[train_index], y_train[val_index]\n",
        "\n",
        "    history = model.fit(\n",
        "        X_fold_train,\n",
        "        y_fold_train,\n",
        "        epochs=25,\n",
        "        batch_size=32,\n",
        "        callbacks=callbacks,\n",
        "        validation_data=(X_fold_val, y_fold_val)\n",
        "    )\n",
        "\n",
        "    train_loss.append(history.history['loss'][-1])\n",
        "    val_loss.append(history.history['val_loss'][-1])\n",
        "\n",
        "# Print the training and validation loss for each fold\n",
        "for fold in range(5):\n",
        "    print(\"Fold %d - Train Loss: %.4f - Val Loss: %.4f\" % (fold+1, train_loss[fold], val_loss[fold]))\n",
        "\n"
      ]
    },
    {
      "cell_type": "markdown",
      "metadata": {},
      "source": [
        "### EVALUATION METRICS"
      ]
    },
    {
      "cell_type": "code",
      "execution_count": 80,
      "metadata": {},
      "outputs": [
        {
          "name": "stdout",
          "output_type": "stream",
          "text": [
            "6/6 [==============================] - 0s 4ms/step - loss: 0.2123 - categorical_accuracy: 0.8789\n",
            "Test Loss: 0.2122933268547058\n",
            "Test Accuracy: 0.878947377204895\n"
          ]
        }
      ],
      "source": [
        "# Evaluate model on test data\n",
        "metrics = model.evaluate(X_test, y_test)\n",
        "print(\"Test Loss: {}\".format(metrics[0]))\n",
        "print(\"Test Accuracy: {}\".format(metrics[1]))"
      ]
    },
    {
      "cell_type": "code",
      "execution_count": 81,
      "metadata": {},
      "outputs": [
        {
          "name": "stdout",
          "output_type": "stream",
          "text": [
            "6/6 [==============================] - 0s 7ms/step\n",
            "Precision: 0.9070055869770711\n",
            "Recall: 0.8651162790697674\n",
            "F1 Score: 0.8854923548241157\n"
          ]
        }
      ],
      "source": [
        "y_pred = model.predict(X_test)\n",
        "thresholded_preds = (y_pred > 0.5).astype(int)  # Applying threshold for binary classification\n",
        "precision = precision_score(y_test, thresholded_preds, average = 'weighted')\n",
        "recall = recall_score(y_test, thresholded_preds, average = 'weighted')\n",
        "f1 = f1_score(y_test, thresholded_preds, average= 'weighted')\n",
        "# print(\"Precision Score: {:.2}\".format(average_precision_score(y_test,y_pred)))\n",
        "print(\"Precision:\", precision)\n",
        "print(\"Recall:\", recall)\n",
        "print(\"F1 Score:\", f1)\n"
      ]
    }
  ],
  "metadata": {
    "colab": {
      "provenance": []
    },
    "kernelspec": {
      "display_name": "Python 3",
      "name": "python3"
    },
    "language_info": {
      "codemirror_mode": {
        "name": "ipython",
        "version": 3
      },
      "file_extension": ".py",
      "mimetype": "text/x-python",
      "name": "python",
      "nbconvert_exporter": "python",
      "pygments_lexer": "ipython3",
      "version": "3.11.8"
    }
  },
  "nbformat": 4,
  "nbformat_minor": 0
}
