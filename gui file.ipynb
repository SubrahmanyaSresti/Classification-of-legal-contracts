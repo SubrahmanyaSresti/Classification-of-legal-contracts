{
 "cells": [
  {
   "cell_type": "markdown",
   "metadata": {},
   "source": [
    "1. IMPORTING LIBRARIES "
   ]
  },
  {
   "cell_type": "code",
   "execution_count": 1,
   "metadata": {},
   "outputs": [],
   "source": [
    "import pywebio\n",
    "from pywebio.input import *\n",
    "from pywebio.output import *\n",
    "from pywebio.session import run_js\n",
    "import joblib\n",
    "import numpy as np\n",
    "from nltk.stem import WordNetLemmatizer\n",
    "from nltk.tokenize import word_tokenize\n",
    "from keras.preprocessing.sequence import pad_sequences\n",
    "import time"
   ]
  },
  {
   "cell_type": "markdown",
   "metadata": {},
   "source": [
    "2. LOADING MODELS "
   ]
  },
  {
   "cell_type": "code",
   "execution_count": 2,
   "metadata": {},
   "outputs": [],
   "source": [
    "BinaryLabelModel = joblib.load(\"/Users/lalitaneeharikavajjhala/Desktop/Research credits /Models/BinaryLabelModel_CNN.pkl\")\n",
    "MultiLabelModel = joblib.load(\"/Users/lalitaneeharikavajjhala/Desktop/Research credits /Models/MultiLabelModel_CNN.pkl\")\n",
    "MultiLabelTokenizer = joblib.load(\"/Users/lalitaneeharikavajjhala/Desktop/Research credits /Models/MultiLabelTokenizer.pkl\")\n",
    "BinaryLabelTokenizer = joblib.load(\"/Users/lalitaneeharikavajjhala/Desktop/Research credits /Models/BinaryLabelTokenizer.pkl\")\n",
    "MultiLabelBinarizer = joblib.load(\"/Users/lalitaneeharikavajjhala/Desktop/Research credits /Models/MultiLabelBinarizer_CNN.pkl\")\n"
   ]
  },
  {
   "cell_type": "markdown",
   "metadata": {},
   "source": [
    "3. INFORMATION TO BE DISPLAYED "
   ]
  },
  {
   "cell_type": "code",
   "execution_count": 3,
   "metadata": {},
   "outputs": [],
   "source": [
    "DisclaimerInfo = \"DISCLAIMER: Welcome to Contract Compass! This application is for educational purposes only and does not constitute legal advice. Contract Compass does not guarantee the accuracy or completeness of any information or analysis supplied. You should consult a qualified lawyer if you are seeking legal advice.\"\n",
    "GeneralInfo = \"The purpose of this application is to identify whether a sentence from a contract is a norm and if yes, to identify the relevant deontic label/s: PERMISSION / OBLIGATION / PROHIBITION.\"\n",
    "InvalidInfo = \"Sorry! This sentence cannot be classified as permission / obligation / prohibition because it is not a norm. Visit ABOUT to read more.\""
   ]
  },
  {
   "cell_type": "code",
   "execution_count": 4,
   "metadata": {},
   "outputs": [],
   "source": [
    "def NormInfo():\n",
    "    popup('What is a norm?',[\n",
    "        put_text(\"A norm refers to any sentence in a contract that describes the expected behaviour of one or more parties to the contract. It is typically expressed using deontic modalities (permission/obligation/prohibition) which are identifed by modal verbs (e.g. may, must, shall, will, may not, shall not).\"),\n",
    "        put_link('Read more', 'https://link.springer.com/content/pdf/10.1007/1-4020-3552-7_7.pdf', new_window=True),\n",
    "        put_buttons(['Close'], onclick=lambda _: close_popup())\n",
    "    ])"
   ]
  },
  {
   "cell_type": "code",
   "execution_count": 5,
   "metadata": {},
   "outputs": [],
   "source": [
    "def PermissionInfo():\n",
    "    popup('What is a permission?',[\n",
    "        put_text(\"A permission is any behaviour that is allowed to be executed by a party to the contract. It is mainly expressed by the modal verb 'may' but other common verb formations include: can, shall be entitled to, shall be permitted to, will be entitled to.\"),\n",
    "        put_buttons(['Close'], onclick=lambda _: close_popup())\n",
    "    ])"
   ]
  },
  {
   "cell_type": "code",
   "execution_count": 6,
   "metadata": {},
   "outputs": [],
   "source": [
    "def ObligationInfo():\n",
    "    popup('What is an obligation?',[\n",
    "        put_text(\"An obligation is a behaviour (usually a duty) that must be executed by a party. An obligation is typically identified by the verbs 'must' or 'shall'.\"),\n",
    "        put_link('Read more', 'https://hs-legal.co.uk/services/individual-services/civil-litigation/contractual-obligation/', new_window=True),\n",
    "        put_buttons(['Close'], onclick=lambda _: close_popup())\n",
    "    ])"
   ]
  },
  {
   "cell_type": "code",
   "execution_count": 7,
   "metadata": {},
   "outputs": [],
   "source": [
    "def ProhibitionInfo():\n",
    "     popup('What is a prohibition?',[\n",
    "        put_text(\"A prohibition is a behaviour that is forbidden and would result in a violation if executed by a party. It is typically written as the negation of an obligation or permission for example 'shall not' or 'may not'.\"),\n",
    "        put_buttons(['Close'], onclick=lambda _: close_popup())\n",
    "    ])"
   ]
  },
  {
   "cell_type": "markdown",
   "metadata": {},
   "source": [
    "4. CLEANING THE TEXT"
   ]
  },
  {
   "cell_type": "code",
   "execution_count": 8,
   "metadata": {},
   "outputs": [],
   "source": [
    "wnl = WordNetLemmatizer()"
   ]
  },
  {
   "cell_type": "code",
   "execution_count": 9,
   "metadata": {},
   "outputs": [],
   "source": [
    "def CleanText(sentence):\n",
    "     a = []\n",
    "     tokens = word_tokenize(sentence)\n",
    "     tokens = [token.lower() for token in tokens if token.isalpha()]\n",
    "     for token in tokens:\n",
    "          lem_word = wnl.lemmatize(token)\n",
    "          a.append(lem_word)\n",
    "     \n",
    "     sentence = \" \".join(a)\n",
    "     return sentence\n"
   ]
  },
  {
   "cell_type": "code",
   "execution_count": 10,
   "metadata": {},
   "outputs": [],
   "source": [
    "# Keras pre-processing\n",
    "maxlen = 200\n",
    "max_words = 2000\n",
    "tokenizer_binary = BinaryLabelTokenizer\n",
    "tokenizer_multilabel = MultiLabelTokenizer"
   ]
  },
  {
   "cell_type": "code",
   "execution_count": 11,
   "metadata": {},
   "outputs": [],
   "source": [
    "# For binary classification - is sentence a norm?\n",
    "def GetFeatures_Norm(text_series):\n",
    "    sequences = tokenizer_binary.texts_to_sequences(text_series)\n",
    "    return pad_sequences(sequences, maxlen=maxlen)"
   ]
  },
  {
   "cell_type": "code",
   "execution_count": 12,
   "metadata": {},
   "outputs": [],
   "source": [
    "# For multilabel classification - what labels does a norm sentence have?\n",
    "def GetFeatures_MultiLabel(text_series):\n",
    "    sequences = tokenizer_multilabel.texts_to_sequences(text_series)\n",
    "    return pad_sequences(sequences, maxlen=maxlen)"
   ]
  },
  {
   "cell_type": "code",
   "execution_count": 13,
   "metadata": {},
   "outputs": [],
   "source": [
    "# Functions to validate user's acceptance of T&Cs\n",
    "def ValidateDisclaimerInfo(opt):\n",
    "    # print(opt)\n",
    "    if not opt:\n",
    "        return \"You must accept the terms and conditions to proceed.\""
   ]
  },
  {
   "cell_type": "code",
   "execution_count": 14,
   "metadata": {},
   "outputs": [],
   "source": [
    "def ValidateGeneralInfo(opt):\n",
    "    # print(opt)\n",
    "    if not opt:\n",
    "        return \"I need to know you've got it before we proceed :)\"\n"
   ]
  },
  {
   "cell_type": "markdown",
   "metadata": {},
   "source": [
    "5. MAKING PREDICTION"
   ]
  },
  {
   "cell_type": "code",
   "execution_count": 15,
   "metadata": {},
   "outputs": [],
   "source": [
    "import time\n",
    "from pywebio import *\n",
    "from pywebio.input import *\n",
    "from pywebio.output import *\n",
    "import asyncio\n",
    "\n",
    "async def process_prediction(text):\n",
    "    # Simulate a long-running task\n",
    "    await asyncio.sleep(6)\n",
    "\n",
    "    # Example processing\n",
    "    result = text.upper()\n",
    "    return result\n",
    "\n",
    "def show_summary(results, text):\n",
    "    put_tabs([\n",
    "        {'title': 'SUMMARY', 'content':\n",
    "            put_table([\n",
    "                [span('Summary', col=2)],\n",
    "                ['Sentence', put_text(text)],\n",
    "                ['Tag/s', put_text(results)],\n",
    "                [span('DISCLAIMER: The above content is for general information purposes only. Please consult a qualified lawyer for legal advice.', col=2)]\n",
    "            ])\n",
    "        },\n",
    "        {'title': 'ABOUT', 'content':\n",
    "            put_buttons(\n",
    "                ['Norm','Permission', 'Obligation', 'Prohibition'], \n",
    "                onclick=[NormInfo, PermissionInfo, ObligationInfo, ProhibitionInfo])\n",
    "        },\n",
    "        {'title': 'MORE INFO', 'content': [\n",
    "            put_text(\"For more information about this project, visit my GitHub profile:\"),\n",
    "            put_link('MlleGeorgette', 'https://github.com/MlleGeorgette/hello-world', new_window=True)\n",
    "        ]},\n",
    "    ])\n",
    "    put_text(\"*******************************************Thanks for using Contract Wiz!*******************************************\")\n",
    "    put_button(\"Reload\", onclick=lambda: run_js('window.location.reload()'))\n",
    "    put_image(open(\"/Users/lalitaneeharikavajjhala/Desktop/Research credits /GUI_components/contract_compass_footer.png\", 'rb').read())\n"
   ]
  },
  {
   "cell_type": "code",
   "execution_count": 16,
   "metadata": {},
   "outputs": [],
   "source": [
    "async def predict_async(text):\n",
    "    cleaned_text = CleanText(text)\n",
    "    norm_text = GetFeatures_Norm([cleaned_text])\n",
    "    predict_norm = BinaryLabelModel.predict(norm_text)\n",
    "    norm_probas = (predict_norm > 0.5).astype(int)\n",
    "    \n",
    "    if norm_probas == [1]:\n",
    "        deontic_text = GetFeatures_MultiLabel([cleaned_text])\n",
    "        predict_tag = MultiLabelModel.predict(deontic_text)\n",
    "        deontic_probas = (predict_tag > 0.5).astype(int)\n",
    "        deontic_tag = MultiLabelBinarizer.inverse_transform(deontic_probas)\n",
    "        results = '\\n'.join(deontic_tag[0])\n",
    "\n",
    "        # Process the prediction asynchronously\n",
    "        results = await process_prediction(results)\n",
    "        show_summary(results, text)\n",
    "    else:\n",
    "        put_tabs([\n",
    "            {'title': 'SUMMARY', 'content':\n",
    "                put_text(InvalidInfo)\n",
    "            },\n",
    "            {'title': 'ABOUT', 'content':\n",
    "                put_buttons(\n",
    "                    ['Norm','Permission', 'Obligation', 'Prohibition'], \n",
    "                    onclick=[NormInfo, PermissionInfo, ObligationInfo, ProhibitionInfo])\n",
    "            },\n",
    "            {'title': 'MORE INFO', 'content': [\n",
    "                put_text(\"For more information about this project, visit my GitHub profile:\"),\n",
    "                put_link('MlleGeorgette', 'https://github.com/MlleGeorgette/hello-world', new_window=True)\n",
    "            ]},\n",
    "        ])\n",
    "        put_text(\"*******************************************Thanks for using Contract Wiz!*******************************************\")\n",
    "        put_button(\"Reload\", onclick=lambda: run_js('window.location.reload()'))\n",
    "        put_image(open(\"/Users/lalitaneeharikavajjhala/Desktop/Research credits /GUI_components/contract_compass_footer.png\", 'rb').read())\n",
    "\n"
   ]
  },
  {
   "cell_type": "code",
   "execution_count": 17,
   "metadata": {},
   "outputs": [],
   "source": [
    "def predict():\n",
    "    put_image(open(\"/Users/lalitaneeharikavajjhala/Desktop/Research credits /GUI_components/contract_compass_banner2.png\", 'rb').read())\n",
    "    put_text()\n",
    "\n",
    "    # Terms and conditions\n",
    "    disclaimer = checkbox(DisclaimerInfo, options=['Agree and proceed'], validate=ValidateDisclaimerInfo)\n",
    "\n",
    "    # Information\n",
    "    general_info = checkbox(GeneralInfo, options=['Got it!'], validate=ValidateGeneralInfo)\n",
    "\n",
    "    # Collect data from user\n",
    "    text = textarea(\"Insert sentence for review:\", rows=5, placeholder=\"Place text here\")\n",
    "\n",
    "    # Loading bar\n",
    "    with put_loading():\n",
    "        asyncio.run(predict_async(text))\n"
   ]
  },
  {
   "cell_type": "code",
   "execution_count": 18,
   "metadata": {},
   "outputs": [
    {
     "name": "stdout",
     "output_type": "stream",
     "text": [
      "Running on all addresses.\n",
      "Use http://172.22.34.110:8080/ to access the application\n"
     ]
    },
    {
     "ename": "RuntimeError",
     "evalue": "This event loop is already running",
     "output_type": "error",
     "traceback": [
      "\u001b[0;31m---------------------------------------------------------------------------\u001b[0m",
      "\u001b[0;31mRuntimeError\u001b[0m                              Traceback (most recent call last)",
      "Cell \u001b[0;32mIn[18], line 2\u001b[0m\n\u001b[1;32m      1\u001b[0m \u001b[38;5;28;01mif\u001b[39;00m \u001b[38;5;18m__name__\u001b[39m \u001b[38;5;241m==\u001b[39m \u001b[38;5;124m'\u001b[39m\u001b[38;5;124m__main__\u001b[39m\u001b[38;5;124m'\u001b[39m:\n\u001b[0;32m----> 2\u001b[0m     \u001b[43mpywebio\u001b[49m\u001b[38;5;241;43m.\u001b[39;49m\u001b[43mstart_server\u001b[49m\u001b[43m(\u001b[49m\u001b[43mpredict\u001b[49m\u001b[43m,\u001b[49m\u001b[43m \u001b[49m\u001b[43mport\u001b[49m\u001b[38;5;241;43m=\u001b[39;49m\u001b[38;5;241;43m8080\u001b[39;49m\u001b[43m,\u001b[49m\u001b[43m \u001b[49m\u001b[43mdebug\u001b[49m\u001b[38;5;241;43m=\u001b[39;49m\u001b[38;5;28;43;01mTrue\u001b[39;49;00m\u001b[43m,\u001b[49m\u001b[43m \u001b[49m\u001b[43mremote_access\u001b[49m\u001b[38;5;241;43m=\u001b[39;49m\u001b[38;5;28;43;01mFalse\u001b[39;49;00m\u001b[43m)\u001b[49m\n",
      "File \u001b[0;32m/Library/Frameworks/Python.framework/Versions/3.11/lib/python3.11/site-packages/pywebio/platform/tornado.py:302\u001b[0m, in \u001b[0;36mstart_server\u001b[0;34m(applications, port, host, debug, cdn, static_dir, remote_access, reconnect_timeout, allowed_origins, check_origin, auto_open_webbrowser, max_payload_size, **tornado_app_settings)\u001b[0m\n\u001b[1;32m    299\u001b[0m \u001b[38;5;28;01mif\u001b[39;00m remote_access:\n\u001b[1;32m    300\u001b[0m     start_remote_access_service(local_port\u001b[38;5;241m=\u001b[39mport)\n\u001b[0;32m--> 302\u001b[0m \u001b[43mtornado\u001b[49m\u001b[38;5;241;43m.\u001b[39;49m\u001b[43mioloop\u001b[49m\u001b[38;5;241;43m.\u001b[39;49m\u001b[43mIOLoop\u001b[49m\u001b[38;5;241;43m.\u001b[39;49m\u001b[43mcurrent\u001b[49m\u001b[43m(\u001b[49m\u001b[43m)\u001b[49m\u001b[38;5;241;43m.\u001b[39;49m\u001b[43mstart\u001b[49m\u001b[43m(\u001b[49m\u001b[43m)\u001b[49m\n",
      "File \u001b[0;32m~/Library/Python/3.11/lib/python/site-packages/tornado/platform/asyncio.py:205\u001b[0m, in \u001b[0;36mBaseAsyncIOLoop.start\u001b[0;34m(self)\u001b[0m\n\u001b[1;32m    204\u001b[0m \u001b[38;5;28;01mdef\u001b[39;00m \u001b[38;5;21mstart\u001b[39m(\u001b[38;5;28mself\u001b[39m) \u001b[38;5;241m-\u001b[39m\u001b[38;5;241m>\u001b[39m \u001b[38;5;28;01mNone\u001b[39;00m:\n\u001b[0;32m--> 205\u001b[0m     \u001b[38;5;28;43mself\u001b[39;49m\u001b[38;5;241;43m.\u001b[39;49m\u001b[43masyncio_loop\u001b[49m\u001b[38;5;241;43m.\u001b[39;49m\u001b[43mrun_forever\u001b[49m\u001b[43m(\u001b[49m\u001b[43m)\u001b[49m\n",
      "File \u001b[0;32m/Library/Frameworks/Python.framework/Versions/3.11/lib/python3.11/asyncio/base_events.py:597\u001b[0m, in \u001b[0;36mBaseEventLoop.run_forever\u001b[0;34m(self)\u001b[0m\n\u001b[1;32m    595\u001b[0m \u001b[38;5;250m\u001b[39m\u001b[38;5;124;03m\"\"\"Run until stop() is called.\"\"\"\u001b[39;00m\n\u001b[1;32m    596\u001b[0m \u001b[38;5;28mself\u001b[39m\u001b[38;5;241m.\u001b[39m_check_closed()\n\u001b[0;32m--> 597\u001b[0m \u001b[38;5;28;43mself\u001b[39;49m\u001b[38;5;241;43m.\u001b[39;49m\u001b[43m_check_running\u001b[49m\u001b[43m(\u001b[49m\u001b[43m)\u001b[49m\n\u001b[1;32m    598\u001b[0m \u001b[38;5;28mself\u001b[39m\u001b[38;5;241m.\u001b[39m_set_coroutine_origin_tracking(\u001b[38;5;28mself\u001b[39m\u001b[38;5;241m.\u001b[39m_debug)\n\u001b[1;32m    600\u001b[0m old_agen_hooks \u001b[38;5;241m=\u001b[39m sys\u001b[38;5;241m.\u001b[39mget_asyncgen_hooks()\n",
      "File \u001b[0;32m/Library/Frameworks/Python.framework/Versions/3.11/lib/python3.11/asyncio/base_events.py:589\u001b[0m, in \u001b[0;36mBaseEventLoop._check_running\u001b[0;34m(self)\u001b[0m\n\u001b[1;32m    587\u001b[0m \u001b[38;5;28;01mdef\u001b[39;00m \u001b[38;5;21m_check_running\u001b[39m(\u001b[38;5;28mself\u001b[39m):\n\u001b[1;32m    588\u001b[0m     \u001b[38;5;28;01mif\u001b[39;00m \u001b[38;5;28mself\u001b[39m\u001b[38;5;241m.\u001b[39mis_running():\n\u001b[0;32m--> 589\u001b[0m         \u001b[38;5;28;01mraise\u001b[39;00m \u001b[38;5;167;01mRuntimeError\u001b[39;00m(\u001b[38;5;124m'\u001b[39m\u001b[38;5;124mThis event loop is already running\u001b[39m\u001b[38;5;124m'\u001b[39m)\n\u001b[1;32m    590\u001b[0m     \u001b[38;5;28;01mif\u001b[39;00m events\u001b[38;5;241m.\u001b[39m_get_running_loop() \u001b[38;5;129;01mis\u001b[39;00m \u001b[38;5;129;01mnot\u001b[39;00m \u001b[38;5;28;01mNone\u001b[39;00m:\n\u001b[1;32m    591\u001b[0m         \u001b[38;5;28;01mraise\u001b[39;00m \u001b[38;5;167;01mRuntimeError\u001b[39;00m(\n\u001b[1;32m    592\u001b[0m             \u001b[38;5;124m'\u001b[39m\u001b[38;5;124mCannot run the event loop while another loop is running\u001b[39m\u001b[38;5;124m'\u001b[39m)\n",
      "\u001b[0;31mRuntimeError\u001b[0m: This event loop is already running"
     ]
    }
   ],
   "source": [
    "if __name__ == '__main__':\n",
    "    pywebio.start_server(predict, port=8080, debug=True, remote_access=False)"
   ]
  },
  {
   "cell_type": "code",
   "execution_count": 22,
   "metadata": {},
   "outputs": [
    {
     "name": "stdout",
     "output_type": "stream",
     "text": [
      "Running on local URL:  http://127.0.0.1:7863\n",
      "Running on public URL: https://3f50bb0492e31c75fe.gradio.live\n",
      "\n",
      "This share link expires in 72 hours. For free permanent hosting and GPU upgrades, run `gradio deploy` from Terminal to deploy to Spaces (https://huggingface.co/spaces)\n"
     ]
    },
    {
     "data": {
      "text/html": [
       "<div><iframe src=\"https://3f50bb0492e31c75fe.gradio.live\" width=\"100%\" height=\"500\" allow=\"autoplay; camera; microphone; clipboard-read; clipboard-write;\" frameborder=\"0\" allowfullscreen></iframe></div>"
      ],
      "text/plain": [
       "<IPython.core.display.HTML object>"
      ]
     },
     "metadata": {},
     "output_type": "display_data"
    },
    {
     "data": {
      "text/plain": []
     },
     "execution_count": 22,
     "metadata": {},
     "output_type": "execute_result"
    }
   ],
   "source": [
    "import gradio as gr\n",
    "import joblib\n",
    "import numpy as np\n",
    "from nltk.stem import WordNetLemmatizer\n",
    "from nltk.tokenize import word_tokenize\n",
    "from keras.preprocessing.sequence import pad_sequences\n",
    "\n",
    "BinaryLabelModel = joblib.load(\"/Users/lalitaneeharikavajjhala/Desktop/Research credits /Models/BinaryLabelModel_CNN.pkl\")\n",
    "MultiLabelModel = joblib.load(\"/Users/lalitaneeharikavajjhala/Desktop/Research credits /Models/MultiLabelModel_CNN.pkl\")\n",
    "MultiLabelTokenizer = joblib.load(\"/Users/lalitaneeharikavajjhala/Desktop/Research credits /Models/MultiLabelTokenizer.pkl\")\n",
    "BinaryLabelTokenizer = joblib.load(\"/Users/lalitaneeharikavajjhala/Desktop/Research credits /Models/BinaryLabelTokenizer.pkl\")\n",
    "MultiLabelBinarizer = joblib.load(\"/Users/lalitaneeharikavajjhala/Desktop/Research credits /Models/MultiLabelBinarizer_CNN.pkl\")\n",
    "\n",
    "def CleanText(sentence):\n",
    "    wnl = WordNetLemmatizer()\n",
    "    a = []\n",
    "    tokens = word_tokenize(sentence)\n",
    "    tokens = [token.lower() for token in tokens if token.isalpha()]\n",
    "    for token in tokens:\n",
    "        lem_word = wnl.lemmatize(token)\n",
    "        a.append(lem_word)\n",
    "    sentence = \" \".join(a)\n",
    "    return sentence\n",
    "\n",
    "maxlen = 200\n",
    "\n",
    "# Functions to get features\n",
    "def GetFeatures_Norm(text_series):\n",
    "    sequences = BinaryLabelTokenizer.texts_to_sequences(text_series)\n",
    "    return pad_sequences(sequences, maxlen=maxlen)\n",
    "\n",
    "def GetFeatures_MultiLabel(text_series):\n",
    "    sequences = MultiLabelTokenizer.texts_to_sequences(text_series)\n",
    "    return pad_sequences(sequences, maxlen=maxlen)\n",
    "\n",
    "# Gradio Interface\n",
    "def contract_compass(sentence):\n",
    "    cleaned_text = CleanText(sentence)\n",
    "    norm_text = GetFeatures_Norm([cleaned_text])\n",
    "    predict_norm = BinaryLabelModel.predict(norm_text)\n",
    "    norm_probas = (predict_norm > 0.5).astype(int)\n",
    "    \n",
    "    if norm_probas == [1]:\n",
    "        deontic_text = GetFeatures_MultiLabel([cleaned_text])\n",
    "        predict_tag = MultiLabelModel.predict(deontic_text)\n",
    "        deontic_probas = (predict_tag > 0.5).astype(int)\n",
    "        deontic_tag = MultiLabelBinarizer.inverse_transform(deontic_probas)\n",
    "        results = '\\n'.join(deontic_tag[0])\n",
    "        return results\n",
    "    else:\n",
    "        return \"This sentence cannot be classified as permission / obligation / prohibition because it is not a norm.\"\n",
    "\n",
    "iface = gr.Interface(fn=contract_compass, inputs=\"text\", outputs=\"text\", title=\"<br>                                                                                                 CONTRACT COMPASS<br> <h3>                                                                                                                                                                 - Lalita Neeharika Vajjhala</h3>\")\n",
    "iface.launch(share=True)\n"
   ]
  }
 ],
 "metadata": {
  "kernelspec": {
   "display_name": "Python 3",
   "language": "python",
   "name": "python3"
  },
  "language_info": {
   "codemirror_mode": {
    "name": "ipython",
    "version": 3
   },
   "file_extension": ".py",
   "mimetype": "text/x-python",
   "name": "python",
   "nbconvert_exporter": "python",
   "pygments_lexer": "ipython3",
   "version": "3.11.8"
  }
 },
 "nbformat": 4,
 "nbformat_minor": 2
}
